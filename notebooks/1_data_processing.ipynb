{
 "cells": [
  {
   "cell_type": "markdown",
   "metadata": {
    "application/vnd.databricks.v1+cell": {
     "cellMetadata": {
      "byteLimit": 2048000,
      "rowLimit": 10000
     },
     "inputWidgets": {},
     "nuid": "96816ed7-b08a-4ca3-abb9-f99880c3535d",
     "showTitle": false,
     "tableResultSettingsMap": {},
     "title": ""
    }
   },
   "source": [
    "# Case Ifood\n",
    "\n",
    "## Processamentos de Dados\n",
    "\n",
    "Utiliza PySpark para ler os da­dos his­tó­ri­cos de tran­sa­ções, ofer­tas e cli­en­tes para ma­ni­pu­la­ção e lim­pe­za dos da­dos afim de uni­fi­ca­r os datasets."
   ]
  },
  {
   "cell_type": "code",
   "execution_count": 1,
   "metadata": {
    "application/vnd.databricks.v1+cell": {
     "cellMetadata": {
      "byteLimit": 2048000,
      "rowLimit": 10000
     },
     "collapsed": true,
     "inputWidgets": {},
     "nuid": "62f20368-a900-4a1d-9f1c-68657e2b5e1d",
     "showTitle": false,
     "tableResultSettingsMap": {},
     "title": ""
    }
   },
   "outputs": [],
   "source": [
    "# Importar bibliotecas e configurar Spark\n",
    "\n",
    "from pyspark.sql import SparkSession\n",
    "from pyspark.sql.functions import *\n",
    "from pyspark.sql.types import *\n",
    "from pyspark.ml.feature import VectorAssembler, MinMaxScaler, StringIndexer, OneHotEncoder\n",
    "from pyspark.sql.window import Window\n",
    "from pyspark.ml import Pipeline\n",
    "\n",
    "spark = SparkSession.builder.appName(\"iFoodCase\").getOrCreate()"
   ]
  },
  {
   "cell_type": "markdown",
   "metadata": {
    "application/vnd.databricks.v1+cell": {
     "cellMetadata": {
      "byteLimit": 2048000,
      "rowLimit": 10000
     },
     "inputWidgets": {},
     "nuid": "a76aafb2-0533-4f02-a080-3833a9fc6921",
     "showTitle": false,
     "tableResultSettingsMap": {},
     "title": ""
    }
   },
   "source": [
    "### Extração e Exploração dos Dados"
   ]
  },
  {
   "cell_type": "code",
   "execution_count": 2,
   "metadata": {
    "application/vnd.databricks.v1+cell": {
     "cellMetadata": {
      "byteLimit": 2048000,
      "rowLimit": 10000
     },
     "collapsed": true,
     "inputWidgets": {},
     "nuid": "e0dd1ce1-548d-427e-b8df-a2adbe931394",
     "showTitle": false,
     "tableResultSettingsMap": {},
     "title": ""
    }
   },
   "outputs": [],
   "source": [
    "# Carrega dados raw json\n",
    "offers_raw = spark.read.json(\"/FileStore/tables/offers.json\")\n",
    "customers_raw = spark.read.json(\"/FileStore/tables/profile.json\")\n",
    "transactions_raw = spark.read.json(\"/FileStore/tables/transactions.json\")\n",
    "\n",
    "# Carrega dados raw local\n",
    "#offers_raw = spark.read.json(\"../data/raw/offers.json\")\n",
    "#customers_raw = spark.read.json(\"../data/raw/profile.json\")\n",
    "#transactions_raw = spark.read.json(\"../data/raw/transactions.json\")"
   ]
  },
  {
   "cell_type": "code",
   "execution_count": null,
   "metadata": {
    "application/vnd.databricks.v1+cell": {
     "cellMetadata": {
      "byteLimit": 2048000,
      "rowLimit": 10000
     },
     "inputWidgets": {},
     "nuid": "ee8b05bd-92e9-4df4-9272-3b501c20669a",
     "showTitle": false,
     "tableResultSettingsMap": {},
     "title": ""
    }
   },
   "outputs": [
    {
     "name": "stdout",
     "output_type": "stream",
     "text": [
      "--- Ofertas ---\n",
      "root\n",
      " |-- channels: array (nullable = true)\n",
      " |    |-- element: string (containsNull = true)\n",
      " |-- discount_value: long (nullable = true)\n",
      " |-- duration: double (nullable = true)\n",
      " |-- id: string (nullable = true)\n",
      " |-- min_value: long (nullable = true)\n",
      " |-- offer_type: string (nullable = true)\n",
      "\n",
      "+--------------------+--------------+--------+--------------------+---------+-------------+\n",
      "|            channels|discount_value|duration|                  id|min_value|   offer_type|\n",
      "+--------------------+--------------+--------+--------------------+---------+-------------+\n",
      "|[email, mobile, s...|            10|     7.0|ae264e3637204a6fb...|       10|         bogo|\n",
      "|[web, email, mobi...|            10|     5.0|4d5c57ea9a6940dd8...|       10|         bogo|\n",
      "|[web, email, mobile]|             0|     4.0|3f207df678b143eea...|        0|informational|\n",
      "|[web, email, mobile]|             5|     7.0|9b98b8c7a33c4b65b...|        5|         bogo|\n",
      "|        [web, email]|             5|    10.0|0b1e1539f2cc45b7b...|       20|     discount|\n",
      "+--------------------+--------------+--------+--------------------+---------+-------------+\n",
      "only showing top 5 rows\n",
      "\n",
      "--- Clientes ---\n",
      "root\n",
      " |-- age: long (nullable = true)\n",
      " |-- credit_card_limit: double (nullable = true)\n",
      " |-- gender: string (nullable = true)\n",
      " |-- id: string (nullable = true)\n",
      " |-- registered_on: string (nullable = true)\n",
      "\n",
      "+---+-----------------+------+--------------------+-------------+\n",
      "|age|credit_card_limit|gender|                  id|registered_on|\n",
      "+---+-----------------+------+--------------------+-------------+\n",
      "|118|             NULL|  NULL|68be06ca386d4c319...|     20170212|\n",
      "| 55|         112000.0|     F|0610b486422d4921a...|     20170715|\n",
      "|118|             NULL|  NULL|38fe809add3b4fcf9...|     20180712|\n",
      "| 75|         100000.0|     F|78afa995795e4d85b...|     20170509|\n",
      "|118|             NULL|  NULL|a03223e636434f42a...|     20170804|\n",
      "+---+-----------------+------+--------------------+-------------+\n",
      "only showing top 5 rows\n",
      "\n",
      "--- Eventos ---\n",
      "root\n",
      " |-- account_id: string (nullable = true)\n",
      " |-- event: string (nullable = true)\n",
      " |-- time_since_test_start: double (nullable = true)\n",
      " |-- value: struct (nullable = true)\n",
      " |    |-- amount: double (nullable = true)\n",
      " |    |-- offer id: string (nullable = true)\n",
      " |    |-- offer_id: string (nullable = true)\n",
      " |    |-- reward: double (nullable = true)\n",
      "\n",
      "+--------------------+--------------+---------------------+--------------------+\n",
      "|          account_id|         event|time_since_test_start|               value|\n",
      "+--------------------+--------------+---------------------+--------------------+\n",
      "|78afa995795e4d85b...|offer received|                  0.0|{NULL, 9b98b8c7a3...|\n",
      "|a03223e636434f42a...|offer received|                  0.0|{NULL, 0b1e1539f2...|\n",
      "|e2127556f4f64592b...|offer received|                  0.0|{NULL, 2906b810c7...|\n",
      "|8ec6ce2a7e7949b1b...|offer received|                  0.0|{NULL, fafdcd668e...|\n",
      "|68617ca6246f4fbc8...|offer received|                  0.0|{NULL, 4d5c57ea9a...|\n",
      "+--------------------+--------------+---------------------+--------------------+\n",
      "only showing top 5 rows\n",
      "\n"
     ]
    }
   ],
   "source": [
    "## Explorar e entender os dados\n",
    "#print('--- Ofertas ---')\n",
    "#offers_raw.printSchema()\n",
    "#offers_raw.show(5)\n",
    "#\n",
    "#print('--- Clientes ---')\n",
    "#customers_raw.printSchema()\n",
    "#customers_raw.show(5)\n",
    "#\n",
    "#print('--- Eventos ---')\n",
    "#transactions_raw.printSchema()\n",
    "#transactions_raw.show(5)\n",
    "#"
   ]
  },
  {
   "cell_type": "markdown",
   "metadata": {
    "application/vnd.databricks.v1+cell": {
     "cellMetadata": {
      "byteLimit": 2048000,
      "rowLimit": 10000
     },
     "inputWidgets": {},
     "nuid": "43a8b090-e8ca-4b5e-b7f2-a8225f09e881",
     "showTitle": false,
     "tableResultSettingsMap": {},
     "title": ""
    }
   },
   "source": [
    "### Tratamento dos Dados\n",
    "\n",
    "1) Remover duplicados\n",
    "2) Corrigir tipos\n",
    "3) Separar `value.offer_id`, `value.amount`, `value.reward` e unificar `offer id` e `offer_id` em uma unica coluna para não perder informação\n",
    "\n",
    "\n",
    "\n"
   ]
  },
  {
   "cell_type": "code",
   "execution_count": 3,
   "metadata": {
    "application/vnd.databricks.v1+cell": {
     "cellMetadata": {
      "byteLimit": 2048000,
      "rowLimit": 10000
     },
     "collapsed": true,
     "inputWidgets": {},
     "nuid": "28491b87-ab53-4848-9d27-af3e3aed719c",
     "showTitle": false,
     "tableResultSettingsMap": {},
     "title": ""
    }
   },
   "outputs": [],
   "source": [
    "## Ofertas: Explodir canais e corrigir tipos\n",
    "offers = offers_raw \\\n",
    "    .withColumn(\"channel\", explode(col(\"channels\"))).drop(\"channels\") \\\n",
    "    .withColumn(\"min_value\", col(\"min_value\").cast(IntegerType())) \\\n",
    "    .withColumn(\"duration\", col(\"duration\").cast(IntegerType())) \\\n",
    "    .withColumn(\"discount_value\", col(\"discount_value\").cast(IntegerType())) \\\n",
    "    .dropDuplicates()\n",
    "\n",
    "## Clientes: Corrigir tipos\n",
    "customers = customers_raw \\\n",
    "    .withColumn(\"age\", col(\"age\").cast(IntegerType())) \\\n",
    "    .withColumn(\"registered_on\", col(\"registered_on\").cast(IntegerType())) \\\n",
    "    .withColumn(\"credit_card_limit\", col(\"credit_card_limit\").cast(FloatType())) \\\n",
    "    .dropDuplicates()\n",
    "\n",
    "## Eventos: Separar campos, coalesce e corrigir tipos\n",
    "transactions = transactions_raw \\\n",
    "    .select(col('account_id'), col('event'), col('time_since_test_start'), col('value.*')) \\\n",
    "    .withColumn(\"offer_id2\", coalesce(\"offer id\", \"offer_id\")) \\\n",
    "    .withColumn(\"amount\", col(\"amount\").cast(FloatType())) \\\n",
    "    .withColumn(\"reward\", col(\"reward\").cast(FloatType())) \\\n",
    "    .withColumn(\"time_since_test_start\", col(\"time_since_test_start\").cast(IntegerType())) \\\n",
    "    .drop(\"offer id\", \"offer_id\") \\\n",
    "    .dropDuplicates()\n"
   ]
  },
  {
   "cell_type": "code",
   "execution_count": null,
   "metadata": {
    "application/vnd.databricks.v1+cell": {
     "cellMetadata": {
      "byteLimit": 2048000,
      "rowLimit": 10000
     },
     "inputWidgets": {},
     "nuid": "7cb412f4-1799-44fc-8875-ebae5dfd4893",
     "showTitle": false,
     "tableResultSettingsMap": {},
     "title": ""
    }
   },
   "outputs": [
    {
     "name": "stdout",
     "output_type": "stream",
     "text": [
      "--- Ofertas ---\n",
      " -- Describe\n",
      "+-------+------------------+------------------+-----------------+\n",
      "|summary|    discount_value|          duration|        min_value|\n",
      "+-------+------------------+------------------+-----------------+\n",
      "|  count|                33|                33|               33|\n",
      "|   mean|4.2727272727272725| 6.424242424242424|7.363636363636363|\n",
      "| stddev|3.4755640484021373|2.1655008518571255|4.942280482088848|\n",
      "|    min|                 0|                 3|                0|\n",
      "|    max|                10|                10|               20|\n",
      "+-------+------------------+------------------+-----------------+\n",
      "\n",
      " -- Analise de Missings\n",
      "+--------------+--------+---+---------+----------+-------+\n",
      "|discount_value|duration| id|min_value|offer_type|channel|\n",
      "+--------------+--------+---+---------+----------+-------+\n",
      "|             0|       0|  0|        0|         0|      0|\n",
      "+--------------+--------+---+---------+----------+-------+\n",
      "\n",
      " -- Distribuicao: Canal x Tipo de Oferta\n",
      "+-------+-------------+-----+\n",
      "|channel|   offer_type|count|\n",
      "+-------+-------------+-----+\n",
      "|    web|     discount|    4|\n",
      "|    web|informational|    1|\n",
      "|    web|         bogo|    3|\n",
      "| social|         bogo|    3|\n",
      "| social|     discount|    2|\n",
      "| social|informational|    1|\n",
      "| mobile|     discount|    3|\n",
      "| mobile|informational|    2|\n",
      "| mobile|         bogo|    4|\n",
      "|  email|     discount|    4|\n",
      "|  email|informational|    2|\n",
      "|  email|         bogo|    4|\n",
      "+-------+-------------+-----+\n",
      "\n",
      "--- Clientes ---\n",
      " -- Describe\n",
      "+-------+-----------------+-----------------+--------------------+\n",
      "|summary|              age|credit_card_limit|       registered_on|\n",
      "+-------+-----------------+-----------------+--------------------+\n",
      "|  count|            17000|            14825|               17000|\n",
      "|   mean|62.53141176470588| 65404.9915682968|2.0167034234117646E7|\n",
      "| stddev| 26.7385799457673| 21598.2994102295|  11677.499960792526|\n",
      "|    min|               18|          30000.0|            20130729|\n",
      "|    max|              118|         120000.0|            20180726|\n",
      "+-------+-----------------+-----------------+--------------------+\n",
      "\n",
      " -- Analise de Missings\n",
      "+---+-----------------+------+---+-------------+\n",
      "|age|credit_card_limit|gender| id|registered_on|\n",
      "+---+-----------------+------+---+-------------+\n",
      "|  0|             2175|  2175|  0|            0|\n",
      "+---+-----------------+------+---+-------------+\n",
      "\n",
      " -- Distribuicao: Idade e Genero\n",
      "+---+-----+\n",
      "|age|count|\n",
      "+---+-----+\n",
      "| 31|  113|\n",
      "| 85|   70|\n",
      "| 65|  280|\n",
      "| 53|  372|\n",
      "| 78|  135|\n",
      "| 34|  147|\n",
      "|101|    5|\n",
      "| 81|  118|\n",
      "| 28|  137|\n",
      "| 76|  155|\n",
      "| 27|  139|\n",
      "| 26|  157|\n",
      "| 44|  192|\n",
      "| 91|   47|\n",
      "| 22|  131|\n",
      "| 93|   29|\n",
      "| 47|  232|\n",
      "| 52|  351|\n",
      "| 86|   54|\n",
      "| 20|  135|\n",
      "+---+-----+\n",
      "only showing top 20 rows\n",
      "\n",
      "+------+-----+\n",
      "|gender|count|\n",
      "+------+-----+\n",
      "|     F| 6129|\n",
      "|  NULL| 2175|\n",
      "|     M| 8484|\n",
      "|     O|  212|\n",
      "+------+-----+\n",
      "\n",
      "--- Eventos ---\n",
      " -- Describe\n",
      "+-------+---------------------+------------------+------------------+\n",
      "|summary|time_since_test_start|            amount|            reward|\n",
      "+-------+---------------------+------------------+------------------+\n",
      "|  count|               306106|            138930|             33174|\n",
      "|   mean|   14.992754143989337|12.778374720848618|4.9029058901549405|\n",
      "| stddev|    8.331058952699744| 30.25278042891534|2.8874226873085815|\n",
      "|    min|                    0|              0.05|               2.0|\n",
      "|    max|                   29|           1062.28|              10.0|\n",
      "+-------+---------------------+------------------+------------------+\n",
      "\n",
      " -- Analise de Missings\n",
      "+----------+-----+---------------------+------+------+---------+\n",
      "|account_id|event|time_since_test_start|amount|reward|offer_id2|\n",
      "+----------+-----+---------------------+------+------+---------+\n",
      "|         0|    0|                    0|167176|272932|   138930|\n",
      "+----------+-----+---------------------+------+------+---------+\n",
      "\n",
      " -- Distribuicao: Evento x Atributos da Coluna Value\n",
      "+---------------+-------------+-------------+----------------+\n",
      "|          event|count(reward)|count(amount)|count(offer_id2)|\n",
      "+---------------+-------------+-------------+----------------+\n",
      "|    transaction|            0|       138930|               0|\n",
      "| offer received|            0|            0|           76277|\n",
      "|offer completed|        33174|            0|           33174|\n",
      "|   offer viewed|            0|            0|           57725|\n",
      "+---------------+-------------+-------------+----------------+\n",
      "\n"
     ]
    }
   ],
   "source": [
    "\n",
    "#print('--- Ofertas ---')\n",
    "#print(' -- Describe')\n",
    "#offers.select('discount_value','duration','min_value').describe().show() \n",
    "#print(' -- Analise de Missings')\n",
    "#offers.select([count(when(isnan(c) | col(c).isNull(), c)).alias(c) for c in offers.columns]).show()\n",
    "#print(' -- Distribuicao: Canal x Tipo de Oferta')\n",
    "#offers.groupBy('channel','offer_type').count().orderBy('channel', ascending=False).show()\n",
    "#\n",
    "#print('--- Clientes ---')\n",
    "#print(' -- Describe')\n",
    "#customers.select('age','credit_card_limit','registered_on').describe().show() \n",
    "#print(' -- Analise de Missings')\n",
    "#customers.select([count(when(isnan(c) | col(c).isNull(), c)).alias(c) for c in customers.columns]).show()\n",
    "#print(' -- Distribuicao: Idade e Genero')\n",
    "#customers.groupBy('age').count().show()\n",
    "#customers.groupBy('gender').count().show()\n",
    "#\n",
    "#print('--- Eventos ---')\n",
    "#print(' -- Describe')\n",
    "#transactions.select('time_since_test_start','amount','reward').describe().show() \n",
    "#print(' -- Analise de Missings')\n",
    "#transactions.select([count(when(isnan(c) | col(c).isNull(), c)).alias(c) for c in transactions.columns]).show()\n",
    "#print(' -- Distribuicao: Evento x Atributos da Coluna Value')\n",
    "#transactions.groupBy('event').agg({\"offer_id2\":\"count\"\n",
    "#                                   ,\"reward\":\"count\"\n",
    "#                                   ,\"amount\":\"count\"}).show()"
   ]
  },
  {
   "cell_type": "markdown",
   "metadata": {
    "application/vnd.databricks.v1+cell": {
     "cellMetadata": {
      "byteLimit": 2048000,
      "rowLimit": 10000
     },
     "inputWidgets": {},
     "nuid": "4d261315-74d7-4c59-a077-fdb0f7c04f3c",
     "showTitle": false,
     "tableResultSettingsMap": {},
     "title": ""
    }
   },
   "source": [
    "4) Tratar missing values imputando valores no dataset `Customers.json` utilizando a estratégia do KNNImputer para variáveis numéricas e Moda para variáveis categóricas\n"
   ]
  },
  {
   "cell_type": "code",
   "execution_count": 4,
   "metadata": {
    "application/vnd.databricks.v1+cell": {
     "cellMetadata": {
      "byteLimit": 2048000,
      "rowLimit": 10000
     },
     "inputWidgets": {},
     "nuid": "7dda280e-8b3b-469f-9f8c-0fbc8ebc7fea",
     "showTitle": false,
     "tableResultSettingsMap": {},
     "title": ""
    }
   },
   "outputs": [],
   "source": [
    "%run ../src/knn_imputer_pyspark#.ipynb #se for local descomentar a extensao"
   ]
  },
  {
   "cell_type": "code",
   "execution_count": 5,
   "metadata": {
    "application/vnd.databricks.v1+cell": {
     "cellMetadata": {
      "byteLimit": 2048000,
      "rowLimit": 10000
     },
     "collapsed": true,
     "inputWidgets": {},
     "nuid": "a051b690-b1e2-456a-8a3f-d4aebea020da",
     "showTitle": false,
     "tableResultSettingsMap": {},
     "title": ""
    }
   },
   "outputs": [
    {
     "name": "stdout",
     "output_type": "stream",
     "text": [
      "Imputando coluna: gender\n",
      "Imputando coluna: credit_card_limit\n"
     ]
    }
   ],
   "source": [
    "# Pipeline KNN Imputer para varias colunas\n",
    "\n",
    "# Definir colunas alvo e features para imputação\n",
    "target_cols = [\"gender\", \"credit_card_limit\"]\n",
    "features_ref = [\"age\",\"registered_on\"]\n",
    "\n",
    "#customers_imputed = knn_imputer_pyspark(customers, target_cols, features_ref, k=5)\n",
    "customers_imputed = KNNImputer(customers, target_cols, features_ref, k=5)\n"
   ]
  },
  {
   "cell_type": "code",
   "execution_count": null,
   "metadata": {
    "application/vnd.databricks.v1+cell": {
     "cellMetadata": {
      "byteLimit": 2048000,
      "rowLimit": 10000
     },
     "inputWidgets": {},
     "nuid": "1488d6d7-1806-4755-b513-b719b7a4a47a",
     "showTitle": false,
     "tableResultSettingsMap": {},
     "title": ""
    }
   },
   "outputs": [
    {
     "name": "stdout",
     "output_type": "stream",
     "text": [
      "--- Clientes Apos Imput---\n",
      " -- Describe\n",
      "+-------+------------------+------------------+--------------------+\n",
      "|summary|               age| credit_card_limit|       registered_on|\n",
      "+-------+------------------+------------------+--------------------+\n",
      "|  count|             17000|             17000|               17000|\n",
      "|   mean| 62.53141176470588| 67016.09411764707|2.0167034234117646E7|\n",
      "| stddev|26.738579945767224|21109.877954891017|   11677.49996079349|\n",
      "|    min|                18|           30000.0|            20130729|\n",
      "|    max|               118|          120000.0|            20180726|\n",
      "+-------+------------------+------------------+--------------------+\n",
      "\n",
      " -- Analise de Missings\n",
      "+---+---+-----------------+------+-------------+\n",
      "| id|age|credit_card_limit|gender|registered_on|\n",
      "+---+---+-----------------+------+-------------+\n",
      "|  0|  0|                0|     0|            0|\n",
      "+---+---+-----------------+------+-------------+\n",
      "\n",
      " -- Distribuicao: Idade e Genero\n",
      "+---+-----+\n",
      "|age|count|\n",
      "+---+-----+\n",
      "| 31|  113|\n",
      "| 85|   70|\n",
      "| 65|  280|\n",
      "| 53|  372|\n",
      "| 78|  135|\n",
      "| 34|  147|\n",
      "|101|    5|\n",
      "| 81|  118|\n",
      "| 28|  137|\n",
      "| 76|  155|\n",
      "| 26|  157|\n",
      "| 27|  139|\n",
      "| 44|  192|\n",
      "| 91|   47|\n",
      "| 22|  131|\n",
      "| 93|   29|\n",
      "| 47|  232|\n",
      "| 52|  351|\n",
      "| 86|   54|\n",
      "| 40|  202|\n",
      "+---+-----+\n",
      "only showing top 20 rows\n",
      "\n",
      "+------+-----+\n",
      "|gender|count|\n",
      "+------+-----+\n",
      "|     F| 8292|\n",
      "|     M| 8496|\n",
      "|     O|  212|\n",
      "+------+-----+\n",
      "\n"
     ]
    }
   ],
   "source": [
    "#print('--- Clientes Apos Imput---')\n",
    "#print(' -- Describe')\n",
    "#customers_imputed.select('age','credit_card_limit','registered_on').describe().show() \n",
    "#print(' -- Analise de Missings')\n",
    "#customers_imputed.select([count(when(isnan(c) | col(c).isNull(), c)).alias(c) for c in customers_imputed.columns]).show()\n",
    "#print(' -- Distribuicao: Idade e Genero')\n",
    "#customers_imputed.groupBy('age').count().show()\n",
    "#customers_imputed.groupBy('gender').count().show()"
   ]
  },
  {
   "cell_type": "markdown",
   "metadata": {
    "application/vnd.databricks.v1+cell": {
     "cellMetadata": {
      "byteLimit": 2048000,
      "rowLimit": 10000
     },
     "inputWidgets": {},
     "nuid": "d256ad69-c72c-4c26-9f26-0d14bc9d760b",
     "showTitle": false,
     "tableResultSettingsMap": {},
     "title": ""
    }
   },
   "source": [
    "6) Cria novas variáveis:\n",
    ">- `perc_offers_used` - Percentual de ofertas utilizadas\n",
    ">- `time_offer_received_completed` - Tempo entre uma oferta recebida e utilizada\n",
    ">- `converted` - Coluna binária que indica se uma oferta foi convertida em transação (se foi completada) ou não\n",
    "* Dentro da janela de 30 dias:\n",
    ">- `count_transactions_by_accountid` - Quantidade de transações por cliente\n",
    ">- `sum_amount_by_accountid` - Soma dos valores das transações realizadas por cliente\n",
    ">- `sum_reward_by_accountid` - Soma dos descontos utilizados por cliente\n"
   ]
  },
  {
   "cell_type": "code",
   "execution_count": 6,
   "metadata": {
    "application/vnd.databricks.v1+cell": {
     "cellMetadata": {
      "byteLimit": 2048000,
      "rowLimit": 10000
     },
     "inputWidgets": {},
     "nuid": "6cd0a68a-61c3-4951-8dfc-d5e807c13573",
     "showTitle": false,
     "tableResultSettingsMap": {},
     "title": ""
    }
   },
   "outputs": [],
   "source": [
    "# Criar coluna auxiliar com ordem dos eventos\n",
    "transactions = transactions.withColumn(\n",
    "    \"event_order\",\n",
    "    when(col(\"event\") == \"offer received\", 1)\n",
    "    .when(col(\"event\") == \"offer viewed\", 2)\n",
    "    .when(col(\"event\") == \"offer completed\", 3)\n",
    "    .when(col(\"event\") == \"transaction\", 4)\n",
    "    .otherwise(5)  # caso apareca outro tipo de evento inesperado\n",
    ")\n",
    "\n",
    "# Ordenar primeiro por account_id (agrupamento), depois pela ordem do evento\n",
    "transactions = transactions.orderBy(\"account_id\", \"time_since_test_start\", \"event_order\")\n",
    "\n",
    "# Opcional: remover a coluna auxiliar depois\n",
    "transactions = transactions.drop(\"event_order\")"
   ]
  },
  {
   "cell_type": "code",
   "execution_count": 7,
   "metadata": {
    "application/vnd.databricks.v1+cell": {
     "cellMetadata": {
      "byteLimit": 2048000,
      "rowLimit": 10000
     },
     "collapsed": true,
     "inputWidgets": {},
     "nuid": "175880c0-2756-460a-b245-db4258ba966a",
     "showTitle": false,
     "tableResultSettingsMap": {},
     "title": ""
    }
   },
   "outputs": [],
   "source": [
    "# Feature engineering\n",
    "# Total ofertas recebidas por account_id\n",
    "offers_received = transactions.filter(col(\"event\") == \"offer received\") \\\n",
    "    .groupBy(\"account_id\") \\\n",
    "    .agg(count(\"*\").alias(\"total_offers_received\"))\n",
    "\n",
    "# Total ofertas usadas por account_id\n",
    "offers_used = transactions.filter(col(\"event\") == \"offer completed\") \\\n",
    "    .groupBy(\"account_id\") \\\n",
    "    .agg(count(\"*\").alias(\"total_offers_used\"))\n",
    "\n",
    "# Juntar e calcular percentual\n",
    "offers_stats = offers_received.join(offers_used, \"account_id\", \"left\") \\\n",
    "    .withColumn(\"total_offers_used\", coalesce(col(\"total_offers_used\"), lit(0))) \\\n",
    "    .withColumn(\"perc_offers_used\", col(\"total_offers_used\") / col(\"total_offers_received\")) \\\n",
    "    .select(\"account_id\", \"perc_offers_used\")\n",
    "\n",
    "\n",
    "transactions_final = transactions.join(\n",
    "    offers_stats,\n",
    "    on=[\"account_id\"],\n",
    "    how=\"outer\"\n",
    ").withColumn(\n",
    "    \"perc_offers_used\",\n",
    "    coalesce(col(\"perc_offers_used\"), lit(0))\n",
    ")\n",
    "\n",
    "transactions_final = transactions_final.withColumn(\"offer_received_temp\", when(col(\"event\") == \"offer received\", 1).otherwise(0)) \\\n",
    "    .withColumn(\"received_offer_flag\", max(\"offer_received_temp\").over(Window.partitionBy(\"account_id\"))) \\\n",
    "    .drop(\"offer_received_temp\")"
   ]
  },
  {
   "cell_type": "code",
   "execution_count": 8,
   "metadata": {
    "application/vnd.databricks.v1+cell": {
     "cellMetadata": {
      "byteLimit": 2048000,
      "rowLimit": 10000
     },
     "collapsed": true,
     "inputWidgets": {},
     "nuid": "f59fda94-47af-4668-b929-2a5f9be33644",
     "showTitle": false,
     "tableResultSettingsMap": {},
     "title": ""
    }
   },
   "outputs": [],
   "source": [
    "# Separa ofertas recebidas e ofertas completadas\n",
    "offers_received = transactions.filter(col(\"event\") == \"offer received\") \\\n",
    "    .select(\"account_id\", \"offer_id2\", col(\"time_since_test_start\").alias(\"received_time\"))\n",
    "\n",
    "offers_completed = transactions.filter(col(\"event\") == \"offer completed\") \\\n",
    "    .select(\"account_id\", \"offer_id2\", col(\"time_since_test_start\").alias(\"completed_time\"))\n",
    "\n",
    "# Faz o join cruzado (mesmo cliente e oferta) para parear eventos\n",
    "offers_pair = offers_completed.alias(\"c\").join(\n",
    "    offers_received.alias(\"r\"),\n",
    "    on=[\n",
    "        col(\"c.account_id\") == col(\"r.account_id\"),\n",
    "        col(\"c.offer_id2\") == col(\"r.offer_id2\"),\n",
    "        col(\"r.received_time\") <= col(\"c.completed_time\")  # Apenas recebimentos antes da conclusao\n",
    "    ],\n",
    "    how=\"inner\"\n",
    ")\n",
    "\n",
    "# Cria ranking para pegar a RECEBIDA mais proxima da COMPLETADA\n",
    "window_spec = Window.partitionBy(\"c.account_id\", \"c.offer_id2\", \"c.completed_time\") \\\n",
    "    .orderBy(col(\"r.received_time\").desc())\n",
    "\n",
    "offers_ranked = offers_pair.withColumn(\"rank\", row_number().over(window_spec)) \\\n",
    "    .filter(col(\"rank\") == 1) \\\n",
    "    .withColumn(\"time_offer_received_completed\", col(\"c.completed_time\") - col(\"r.received_time\")) \\\n",
    "    .select(\n",
    "        col(\"c.account_id\").alias(\"completed_account_id\"),\n",
    "        col(\"c.offer_id2\").alias(\"completed_offer_id2\"),\n",
    "        col(\"r.received_time\"),\n",
    "        col(\"c.completed_time\"),\n",
    "        \"time_offer_received_completed\"\n",
    "    )\n",
    "\n",
    "transactions_final = transactions_final.alias(\"t\").join(\n",
    "    offers_ranked.alias(\"o\"),\n",
    "    on=[\n",
    "        col(\"t.account_id\") == col(\"o.completed_account_id\"),\n",
    "        col(\"t.offer_id2\") == col(\"o.completed_offer_id2\"),\n",
    "        (\n",
    "            # Evento entre received e completed\n",
    "            (col(\"t.time_since_test_start\") >= col(\"o.received_time\")) &\n",
    "            (col(\"t.time_since_test_start\") <= col(\"o.completed_time\"))\n",
    "        ) |\n",
    "        (\n",
    "            # Evento \"offer viewed\" entre received e viewed_time, mesmo que depois de completed\n",
    "            (col(\"t.event\") == \"offer viewed\") &\n",
    "            (col(\"t.time_since_test_start\") >= col(\"o.received_time\")) &\n",
    "            (col(\"t.time_since_test_start\") >= col(\"o.completed_time\"))\n",
    "        )\n",
    "    ],\n",
    "    how=\"left\"\n",
    ").withColumn(\n",
    "    \"converted\",\n",
    "    when(col(\"o.received_time\").isNotNull(), lit(1)).otherwise(lit(0))\n",
    ")\n",
    "\n",
    "#define que eventos de transacao nao serao utilizados para definir se uma oferta foi convertida ou nao\n",
    "transactions_final = transactions_final.withColumn(\n",
    "    \"converted\",\n",
    "    when(col(\"t.event\") == \"transaction\", None).otherwise(col(\"converted\").cast(IntegerType()))\n",
    ") \\\n",
    ".drop(\"completed_account_id\", \"completed_offer_id2\", \"completed_time\", \"received_time\") \\\n",
    ".withColumn( #define um valor alto constante para indica de forma explicita que não houve conversao da oferta\n",
    "    \"time_offer_received_completed_filled\",\n",
    "    when(col(\"time_offer_received_completed\").isNull(), lit(9999))\n",
    "    .otherwise(col(\"time_offer_received_completed\"))\n",
    ") \\\n",
    ".withColumn(#cria uma flag auxiliar para ser usada junto ao valor constante imputado indicando o imput e ponderar a informacao\n",
    "    \"was_imputed_time_offer\",\n",
    "    when(col(\"time_offer_received_completed\").isNull(), lit(1)).otherwise(lit(0))\n",
    ")"
   ]
  },
  {
   "cell_type": "code",
   "execution_count": 9,
   "metadata": {
    "application/vnd.databricks.v1+cell": {
     "cellMetadata": {
      "byteLimit": 2048000,
      "rowLimit": 10000
     },
     "collapsed": true,
     "inputWidgets": {},
     "nuid": "aa14f90f-0080-4995-a257-69613a8e36c5",
     "showTitle": false,
     "tableResultSettingsMap": {},
     "title": ""
    }
   },
   "outputs": [],
   "source": [
    "%run ../src/metrics#.ipynb #se for local descomentar a extensao"
   ]
  },
  {
   "cell_type": "code",
   "execution_count": 10,
   "metadata": {
    "application/vnd.databricks.v1+cell": {
     "cellMetadata": {
      "byteLimit": 2048000,
      "rowLimit": 10000
     },
     "collapsed": true,
     "inputWidgets": {},
     "nuid": "cbf7d512-d75a-43df-8640-4dd151aabf18",
     "showTitle": false,
     "tableResultSettingsMap": {},
     "title": ""
    }
   },
   "outputs": [],
   "source": [
    "# Quantidade de transações, Soma dos valores das transações e Soma dos descontos dutilizados por cliente\n",
    "# Eventos de transação\n",
    "transactions_event = transactions.filter(col(\"event\") == \"transaction\")\n",
    "transactions_event = calc_count(\n",
    "    transactions_event, 'account_id', 'count_transactions_by_accountid', 'event', 'time_since_test_start'\n",
    ")\n",
    "transactions_event = calc_sum(\n",
    "    transactions_event, 'account_id', 'sum_amount_by_accountid', 'amount', 'time_since_test_start'\n",
    ")\n",
    "\n",
    "# Ofertas completadas\n",
    "transactions_offers = transactions.filter(col(\"event\") == \"offer completed\")\n",
    "transactions_offers = calc_sum(\n",
    "    transactions_offers, 'account_id', 'sum_reward_by_accountid', 'reward', 'time_since_test_start'\n",
    ")\n",
    "\n",
    "transactions_event = transactions_event.drop(\"amount\", \"event\", \"reward\", \"offer_id2\")\n",
    "transactions_offers = transactions_offers.drop(\"amount\", \"event\", \"reward\", \"offer_id2\")\n",
    "\n",
    "# Une os resultados por account_id e time\n",
    "from functools import reduce\n",
    "\n",
    "dfs_to_join = [transactions_event, transactions_offers]\n",
    "\n",
    "# Usar full outer para preservar todas as linhas\n",
    "transactions_features = reduce(\n",
    "    lambda df1, df2: df1.join(df2, on=[\"account_id\",\"time_since_test_start\"], how=\"outer\"),\n",
    "    dfs_to_join\n",
    ")\n",
    "\n",
    "# Junta com a base original (transactions)\n",
    "transactions_final = transactions_final.join(\n",
    "    transactions_features, on=[\"account_id\", \"time_since_test_start\"], how=\"left\"\n",
    ")\n",
    "\n",
    "# Faz o tratamento para preencher todos os registros com as variaveis dentro dos 30 dias (o valor maximo em time_since_test_start é 29)\n",
    "# Lista de colunas com nulls que devem ser preenchidas\n",
    "cols_to_fill = [\"count_transactions_by_accountid_30d\",\"sum_amount_by_accountid_30d\",\"sum_reward_by_accountid_30d\"]\n",
    "\n",
    "# Aplica preenchimento por valor anterior OU 0 se não houver anterior\n",
    "for col_name in cols_to_fill:\n",
    "    window_spec = Window.partitionBy(\"account_id\") \\\n",
    "        .orderBy(\"time_since_test_start\") \\\n",
    "        .rowsBetween(Window.unboundedPreceding, 0)\n",
    "\n",
    "    transactions_final = transactions_final.withColumn(\n",
    "        f\"{col_name}\",\n",
    "        coalesce(\n",
    "            last(col_name, ignorenulls=True).over(window_spec),\n",
    "            lit(0)\n",
    "        )\n",
    "    )"
   ]
  },
  {
   "cell_type": "code",
   "execution_count": 11,
   "metadata": {
    "application/vnd.databricks.v1+cell": {
     "cellMetadata": {
      "byteLimit": 2048000,
      "rowLimit": 10000
     },
     "collapsed": true,
     "inputWidgets": {},
     "nuid": "9fa772ef-6626-4a85-a353-c2e3077ba5f2",
     "showTitle": false,
     "tableResultSettingsMap": {},
     "title": ""
    }
   },
   "outputs": [],
   "source": [
    "# Criar coluna auxiliar com ordem dos eventos\n",
    "transactions_final = transactions_final.withColumn(\n",
    "    \"event_order\",\n",
    "    when(col(\"event\") == \"offer received\", 1)\n",
    "    .when(col(\"event\") == \"offer viewed\", 2)\n",
    "    .when(col(\"event\") == \"offer completed\", 3)\n",
    "    .when(col(\"event\") == \"transaction\", 4)\n",
    "    .otherwise(5)  # caso apareca outro tipo de evento inesperado\n",
    ")\\\n",
    ".orderBy(\"account_id\", \"time_since_test_start\", \"event_order\")\\\n",
    ".drop(\"event_order\")\n",
    "\n",
    "#transactions_final.show(50)"
   ]
  },
  {
   "cell_type": "code",
   "execution_count": 12,
   "metadata": {
    "application/vnd.databricks.v1+cell": {
     "cellMetadata": {
      "byteLimit": 2048000,
      "rowLimit": 10000
     },
     "inputWidgets": {},
     "nuid": "8584227d-0f1a-46b1-8f7c-edeed304f54c",
     "showTitle": false,
     "tableResultSettingsMap": {},
     "title": ""
    }
   },
   "outputs": [],
   "source": [
    "# Unir os datasets\n",
    "df_final = customers_imputed.join(transactions_final, customers_imputed.id == transactions_final.account_id, \"left\") \\\n",
    "    .drop(\"id\") \\\n",
    "    .join(offers, offers.id == transactions_final.offer_id2, \"left\") \n",
    "\n",
    "df_final = df_final.withColumn(\n",
    "    \"event_order\",\n",
    "    when(col(\"event\") == \"offer received\", 1)\n",
    "    .when(col(\"event\") == \"offer viewed\", 2)\n",
    "    .when(col(\"event\") == \"offer completed\", 3)\n",
    "    .when(col(\"event\") == \"transaction\", 4)\n",
    "    .otherwise(5)  # caso apareca outro tipo de evento inesperado\n",
    ")\\\n",
    ".orderBy(\"account_id\", \"time_since_test_start\", \"event_order\")\\\n",
    ".drop(\"event_order\")\n",
    "\n",
    "#df_final.show(50)"
   ]
  },
  {
   "cell_type": "markdown",
   "metadata": {
    "application/vnd.databricks.v1+cell": {
     "cellMetadata": {
      "byteLimit": 2048000,
      "rowLimit": 10000
     },
     "inputWidgets": {},
     "nuid": "0b80d6b7-dc4a-4b2c-8a02-fd6b404c9f1b",
     "showTitle": false,
     "tableResultSettingsMap": {},
     "title": ""
    }
   },
   "source": [
    "7. Encoding de variáveis categóricas utilizando OneHotEncoder filtrando somente os eventos de ofertas, dados que irão no modelo\n",
    "* `gender`\n",
    "* `offer_type`\n",
    "* `channel`"
   ]
  },
  {
   "cell_type": "code",
   "execution_count": 13,
   "metadata": {
    "application/vnd.databricks.v1+cell": {
     "cellMetadata": {
      "byteLimit": 2048000,
      "rowLimit": 10000
     },
     "inputWidgets": {},
     "nuid": "b3e0cada-6126-4ff8-9c72-9fc53ead0c49",
     "showTitle": false,
     "tableResultSettingsMap": {},
     "title": ""
    }
   },
   "outputs": [],
   "source": [
    "df_filled = df_final.filter(col(\"event\") == \"offer received\")"
   ]
  },
  {
   "cell_type": "code",
   "execution_count": null,
   "metadata": {
    "application/vnd.databricks.v1+cell": {
     "cellMetadata": {
      "byteLimit": 2048000,
      "rowLimit": 10000
     },
     "inputWidgets": {},
     "nuid": "95389005-ceb1-4b2c-b33f-7f30af5d1e03",
     "showTitle": false,
     "tableResultSettingsMap": {},
     "title": ""
    }
   },
   "outputs": [],
   "source": [
    "# Lista de colunas categoricas para aplicar OHE\n",
    "categorical_cols = ['gender', 'offer_type', 'channel']\n",
    "\n",
    "# Gerar nomes para colunas indexadas e codificadas\n",
    "indexers = [StringIndexer(inputCol=col, outputCol=col + \"_idx\", handleInvalid=\"keep\") for col in categorical_cols]\n",
    "encoders = [OneHotEncoder(inputCol=col + \"_idx\", outputCol=col + \"_ohe\") for col in categorical_cols]\n",
    "\n",
    "# Construir pipeline de transformacao\n",
    "ohe_pipeline = Pipeline(stages=indexers + encoders)\n",
    "\n",
    "# Aplicar pipeline no DataFrame\n",
    "ohe_model = ohe_pipeline.fit(df_filled)\n",
    "df_encoded = ohe_model.transform(df_filled)\n",
    "\n",
    "# Explodir cada vetor OHE em colunas individuais\n",
    "for col_name in categorical_cols:\n",
    "    # Converter vetor para array\n",
    "    df_encoded = df_encoded.withColumn(f\"{col_name}_ohe_array\", vector_to_array(f\"{col_name}_ohe\"))\n",
    "\n",
    "    # Descobrir número de colunas para cada vetor (usando o metadado do modelo)\n",
    "    #ohe_size = ohe_model.stages[-len(categorical_cols) + categorical_cols.index(col_name)].getOutputCols()[0]\n",
    "    num_categories = df_encoded.select(f\"{col_name}_ohe_array\").head()[f\"{col_name}_ohe_array\"].__len__()\n",
    "\n",
    "    # Criar novas colunas com base no vetor\n",
    "    for i in range(num_categories):\n",
    "        df_encoded = df_encoded.withColumn(f\"{col_name}_ohe_{i}\", col(f\"{col_name}_ohe_array\")[i])\n",
    "\n",
    "# 5. Remover colunas auxiliares\n",
    "drop_cols = [f\"{col}_idx\" for col in categorical_cols] + [f\"{col}_ohe\" for col in categorical_cols] + [f\"{col}_ohe_array\" for col in categorical_cols]\n",
    "df_encoded = df_encoded.drop(*drop_cols)\n",
    "\n",
    "#.show(50, truncate=False)"
   ]
  },
  {
   "cell_type": "markdown",
   "metadata": {
    "application/vnd.databricks.v1+cell": {
     "cellMetadata": {
      "byteLimit": 2048000,
      "rowLimit": 10000
     },
     "inputWidgets": {},
     "nuid": "ef363dfa-4652-4121-9526-3087b978fcee",
     "showTitle": false,
     "tableResultSettingsMap": {},
     "title": ""
    }
   },
   "source": [
    "### Load dos dados unificados"
   ]
  },
  {
   "cell_type": "code",
   "execution_count": null,
   "metadata": {
    "application/vnd.databricks.v1+cell": {
     "cellMetadata": {
      "byteLimit": 2048000,
      "rowLimit": 10000
     },
     "inputWidgets": {},
     "nuid": "a2e99261-73b2-4fc5-a798-5eb6bf0da3e5",
     "showTitle": false,
     "tableResultSettingsMap": {},
     "title": ""
    }
   },
   "outputs": [],
   "source": [
    "# Salvar dataset processado em parquet\n",
    "#df_final.write.mode(\"overwrite\").parquet(\"FileStore/tables/final_dataset.parquet\")\n",
    "\n",
    "# Salvar dataset final para a modelagem em parquet\n",
    "df_encoded.write.mode(\"overwrite\").parquet(\"FileStore/tables/final_dataset.parquet\") # para rodar local '../data/processed/final_dataset.parquet'\n",
    "\n",
    "print(\"Pipeline de processamento completo. Dataset salvo em final_dataset.parquet\")"
   ]
  },
  {
   "cell_type": "code",
   "execution_count": null,
   "metadata": {},
   "outputs": [],
   "source": []
  }
 ],
 "metadata": {
  "application/vnd.databricks.v1+notebook": {
   "computePreferences": null,
   "dashboards": [],
   "environmentMetadata": null,
   "inputWidgetPreferences": null,
   "language": "python",
   "notebookMetadata": {
    "mostRecentlyExecutedCommandWithImplicitDF": {
     "commandId": 3621842400467197,
     "dataframes": [
      "_sqldf"
     ]
    },
    "pythonIndentUnit": 4
   },
   "notebookName": "1_data_processing",
   "widgets": {}
  },
  "kernelspec": {
   "display_name": "Python 3 (ipykernel)",
   "language": "python",
   "name": "python3"
  },
  "language_info": {
   "codemirror_mode": {
    "name": "ipython",
    "version": 3
   },
   "file_extension": ".py",
   "mimetype": "text/x-python",
   "name": "python",
   "nbconvert_exporter": "python",
   "pygments_lexer": "ipython3",
   "version": "3.11.6"
  }
 },
 "nbformat": 4,
 "nbformat_minor": 4
}
