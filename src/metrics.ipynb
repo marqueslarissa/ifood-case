{
 "cells": [
  {
   "cell_type": "code",
   "execution_count": 0,
   "metadata": {
    "application/vnd.databricks.v1+cell": {
     "cellMetadata": {},
     "inputWidgets": {},
     "nuid": "f2c0cf2a-83c6-4cd7-9f0f-9171774e755f",
     "showTitle": false,
     "tableResultSettingsMap": {},
     "title": ""
    }
   },
   "outputs": [],
   "source": [
    "from pyspark.sql.functions import *\n",
    "from pyspark.sql.window import Window\n",
    "\n",
    "# Funcao para calcular transacoes de uma conta de acordo com a janela\n",
    "def calc_count(df, partition_column, vu_name, count_column, order_column):\n",
    "    # Definicao das janelas de tempo em dias\n",
    "    win_spec_1d = Window.partitionBy(partition_column).orderBy(order_column).rangeBetween(-1, 0) # Ultimos 1 dia\n",
    "    win_spec_7d = Window.partitionBy(partition_column).orderBy(order_column).rangeBetween(-7, 0) # Ultimos 7 dias\n",
    "    win_spec_30d = Window.partitionBy(partition_column).orderBy(order_column).rangeBetween(-30, 0) # Ultimos 30 dias\n",
    "\n",
    "    # Cria colunas com o tamanho do conjunto distinto em cada janela\n",
    "    df = df.withColumn(f'{vu_name}_30d', count(count_column).over(win_spec_30d).cast(IntegerType()))\n",
    "    return df\n",
    "\n",
    "# Funcao para calcular ofertas de uma conta de acordo com a janela\n",
    "def calc_countdist(df, partition_column, vu_name, countdist_column, order_column):\n",
    "    # Definicao das janelas de tempo em dias\n",
    "    win_spec_1d = Window.partitionBy(partition_column).orderBy(order_column).rangeBetween(-1, 0) # Ultimos 1 dia\n",
    "    win_spec_7d = Window.partitionBy(partition_column).orderBy(order_column).rangeBetween(-7, 0) # Ultimos 7 dias\n",
    "    win_spec_30d = Window.partitionBy(partition_column).orderBy(order_column).rangeBetween(-30, 0) # Ultimos 30 dias\n",
    "\n",
    "    # Cria colunas com o tamanho do conjunto distinto em cada janela\n",
    "    df = df.withColumn(f'{vu_name}_30d', size(collect_set(countdist_column).over(win_spec_30d).cast(IntegerType())))\n",
    "    return df\n",
    "\n",
    "\n",
    "# Funcao para calcular soma acumulada em janelas temporais\n",
    "def calc_sum(df, partition_column, vu_name, sum_column, order_column):\n",
    "    # Definicao das janelas de tempo em dia\n",
    "    win_spec_1d = Window.partitionBy(partition_column).orderBy(order_column).rangeBetween(-1, 0)\n",
    "    win_spec_7d = Window.partitionBy(partition_column).orderBy(order_column).rangeBetween(-7, 0)\n",
    "    win_spec_30d = Window.partitionBy(partition_column).orderBy(order_column).rangeBetween(-30, 0)\n",
    "\n",
    "    df = df.withColumn(f'{vu_name}_30d', sum(sum_column).over(win_spec_30d).cast(FloatType()))\n",
    "    return df"
   ]
  }
 ],
 "metadata": {
  "application/vnd.databricks.v1+notebook": {
   "computePreferences": null,
   "dashboards": [],
   "environmentMetadata": {
    "base_environment": "",
    "environment_version": "1"
   },
   "inputWidgetPreferences": null,
   "language": "python",
   "notebookMetadata": {
    "pythonIndentUnit": 4
   },
   "notebookName": "metrics",
   "widgets": {}
  }
 },
 "nbformat": 4,
 "nbformat_minor": 0
}